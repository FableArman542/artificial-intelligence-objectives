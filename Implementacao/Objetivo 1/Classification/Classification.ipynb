{
 "cells": [
  {
   "cell_type": "code",
   "execution_count": 2,
   "metadata": {},
   "outputs": [],
   "source": [
    "import os\n",
    "import cv2\n",
    "import pickle\n",
    "import numpy as np\n",
    "import pandas as pd\n",
    "import matplotlib.pyplot as plt\n",
    "from sklearn.neural_network import MLPClassifier\n",
    "import skimage.io as io\n",
    "\n",
    "filenames = os.listdir(\"./clouds\")\n",
    "classes = []\n",
    "for image in filenames :\n",
    "    category = image.split('_')[0] # Categoria\n",
    "    if category == 'cloud' :\n",
    "        classes.append(1) # cloud\n",
    "    else :    \n",
    "        classes.append(0) # sun\n",
    "\n",
    "data = []\n",
    "classes = np.array(classes)\n",
    "filenames = np.array(filenames)"
   ]
  },
  {
   "cell_type": "code",
   "execution_count": 23,
   "metadata": {},
   "outputs": [],
   "source": [
    "counter=0\n",
    "for file in filenames:\n",
    "    img = cv2.imread(\"./clouds/\"+file)\n",
    "    grayImage = cv2.cvtColor(img, cv2.COLOR_BGR2GRAY)\n",
    "    grayImage = cv2.resize(grayImage,(30,30))\n",
    "\n",
    "    # cv2.imshow('asd', grayImage)\n",
    "    # cv2.waitKey(0)\n",
    "    # cv2.destroyAllWindows()\n",
    "    # break\n",
    "\n",
    "    grayImage = grayImage.reshape(1, -1)\n",
    "    \n",
    "    # grayImage = np.array(grayImage).flatten()\n",
    "\n",
    "    data.append([grayImage, classes[counter]])\n",
    "    counter+=1\n",
    "\n",
    "np.random.shuffle(data)\n",
    "pickle_in = open('data.pickle', 'wb')\n",
    "pickle.dump(data, pickle_in)\n",
    "pickle_in.close()"
   ]
  },
  {
   "cell_type": "code",
   "execution_count": 3,
   "metadata": {},
   "outputs": [
    {
     "name": "stderr",
     "output_type": "stream",
     "text": [
      "C:\\Users\\arman\\AppData\\Local\\Temp/ipykernel_16604/2502629802.py:7: VisibleDeprecationWarning: Creating an ndarray from ragged nested sequences (which is a list-or-tuple of lists-or-tuples-or ndarrays with different lengths or shapes) is deprecated. If you meant to do this, you must specify 'dtype=object' when creating the ndarray\n",
      "  data = np.array(data)\n"
     ]
    }
   ],
   "source": [
    "from sklearn.model_selection import train_test_split\n",
    "\n",
    "pickle_in = open('data.pickle', 'rb')\n",
    "data = pickle.load(pickle_in)\n",
    "pickle_in.close()\n",
    "\n",
    "data = np.array(data)\n",
    "\n",
    "# data = data[:100]\n",
    "\n",
    "features = data[:,0]\n",
    "labels = data[:,1]\n",
    "\n",
    "x_train, x_test, y_train, y_test = train_test_split(features, labels, test_size=.3, shuffle=True)\n",
    "\n",
    "# print(labels[5])\n",
    "# plt.imshow(features[5].reshape(30, 30))"
   ]
  },
  {
   "cell_type": "code",
   "execution_count": 4,
   "metadata": {},
   "outputs": [],
   "source": [
    "def runNeuralNet (X, y, _activation, _shuffle, _max_iter=10000, r=0.001, alpha=0):\n",
    "    lastLoss = 10\n",
    "    while lastLoss > .1:\n",
    "        mlp = MLPClassifier(\n",
    "                                solver='sgd',\n",
    "                                shuffle=_shuffle,\n",
    "                                activation=_activation,\n",
    "                                max_iter=_max_iter,\n",
    "                                tol=1e-10,\n",
    "                                hidden_layer_sizes=(1),\n",
    "                                momentum=alpha,\n",
    "                                learning_rate_init=r,\n",
    "                                verbose=False)\n",
    "        mlp.fit(X, y)\n",
    "        lastLoss = np.array(mlp.loss_curve_).min()\n",
    "    \n",
    "    print('Score: ', mlp.score(X, y))\n",
    "    print('Number of iterations: ', mlp.n_iter_)\n",
    "    print('Loss: ', lastLoss)\n",
    "\n",
    "    return mlp"
   ]
  },
  {
   "cell_type": "code",
   "execution_count": 5,
   "metadata": {},
   "outputs": [
    {
     "name": "stdout",
     "output_type": "stream",
     "text": [
      "----------\n",
      "(140, 900)\n",
      "(140,)\n",
      "----------\n",
      "Score:  1.0\n",
      "Number of iterations:  537\n",
      "Loss:  7.236956841693479e-05\n"
     ]
    }
   ],
   "source": [
    "x_train = np.vstack(x_train)\n",
    "y_train = y_train.astype('int')\n",
    "\n",
    "x_test = np.array(x_test)\n",
    "y_test = np.array(y_test)\n",
    "\n",
    "x_test = np.vstack(x_test)\n",
    "y_test = y_test.astype('int')\n",
    "\n",
    "print(\"----------\")\n",
    "print(x_train.shape)\n",
    "print(y_train.shape)\n",
    "print(\"----------\")\n",
    "\n",
    "mlp = runNeuralNet(x_train, y_train, _activation='relu', _shuffle=True, _max_iter=1000000, alpha=1)\n",
    "\n"
   ]
  },
  {
   "cell_type": "code",
   "execution_count": 8,
   "metadata": {},
   "outputs": [
    {
     "name": "stdout",
     "output_type": "stream",
     "text": [
      "(60, 900)\n",
      "(60,)\n",
      "              precision    recall  f1-score   support\n",
      "\n",
      "           0       1.00      0.92      0.96        26\n",
      "           1       0.94      1.00      0.97        34\n",
      "\n",
      "    accuracy                           0.97        60\n",
      "   macro avg       0.97      0.96      0.97        60\n",
      "weighted avg       0.97      0.97      0.97        60\n",
      "\n",
      "[1 1 0 0 0 0 1 0 1 1 0 1 0 0 1 1 0 1 0 0 1 1 0 1 1 1 1 0 1 0 1 1 1 0 0 0 0\n",
      " 0 1 1 1 1 1 0 0 1 1 0 1 0 1 1 1 1 1 1 1 1 1 0]\n",
      "-------\n",
      "[1 1 0 0 0 0 1 0 1 1 0 1 0 0 1 1 0 1 0 0 1 1 0 1 1 1 1 0 1 0 1 1 1 0 0 0 0\n",
      " 0 1 1 1 1 1 0 0 1 1 0 1 0 0 1 0 1 1 1 1 1 1 0]\n"
     ]
    },
    {
     "data": {
      "image/png": "[encoded data removed]",
      "text/plain": [
       "<Figure size 432x288 with 1 Axes>"
      ]
     },
     "metadata": {
      "needs_background": "light"
     },
     "output_type": "display_data"
    }
   ],
   "source": [
    "from sklearn.metrics import classification_report\n",
    "\n",
    "print(x_test.shape)\n",
    "print(y_test.shape)\n",
    "\n",
    "y_predicted = mlp.predict(x_test)\n",
    "\n",
    "print(classification_report(y_true=y_test, y_pred=y_predicted))\n",
    "\n",
    "print(y_predicted)\n",
    "print(\"-------\")\n",
    "print(y_test)\n",
    "\n",
    "# plt.imshow(x_test[1].reshape(30, 30))\n",
    "# plt.show()"
   ]
  }
 ],
 "metadata": {
  "interpreter": {
   "hash": "230e483e6be1e5955005007df6459674f8b6f658a21b874bbde0d6a07b03dc4a"
  },
  "kernelspec": {
   "display_name": "Python 3.9.7 64-bit ('spyder-env': conda)",
   "name": "python3"
  },
  "language_info": {
   "codemirror_mode": {
    "name": "ipython",
    "version": 3
   },
   "file_extension": ".py",
   "mimetype": "text/x-python",
   "name": "python",
   "nbconvert_exporter": "python",
   "pygments_lexer": "ipython3",
   "version": "3.9.5"
  },
  "orig_nbformat": 4
 },
 "nbformat": 4,
 "nbformat_minor": 2
}
