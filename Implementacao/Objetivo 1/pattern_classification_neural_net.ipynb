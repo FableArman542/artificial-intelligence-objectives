{
 "cells": [
  {
   "cell_type": "code",
   "execution_count": 20,
   "metadata": {},
   "outputs": [
    {
     "name": "stdout",
     "output_type": "stream",
     "text": [
      "X= \n",
      " [[1 1 1 1 1 0 0 0 1 0 0 1 1 1 1 1]\n",
      " [1 1 1 1 1 0 0 1 1 0 0 1 1 0 1 1]\n",
      " [1 1 1 1 1 0 0 1 1 0 0 1 1 1 0 1]\n",
      " [1 0 0 1 0 1 1 0 0 1 1 0 1 0 0 1]\n",
      " [1 0 0 1 0 1 1 0 0 1 0 0 1 0 0 1]\n",
      " [0 0 0 1 0 1 1 0 0 1 1 0 1 0 0 1]]\n",
      "y= \n",
      " [[1 0]\n",
      " [1 0]\n",
      " [1 0]\n",
      " [0 1]\n",
      " [0 1]\n",
      " [0 1]]\n"
     ]
    }
   ],
   "source": [
    "from sklearn.neural_network import MLPClassifier\n",
    "from sklearn.metrics import classification_report\n",
    "from sklearn.metrics import plot_confusion_matrix\n",
    "import numpy as np\n",
    "import matplotlib.pyplot as plt\n",
    "\n",
    "X = np.array([\n",
    "        np.array([\n",
    "        1, 1, 1, 1,\n",
    "        1, 0, 0, 0,\n",
    "        1, 0, 0, 1,\n",
    "        1, 1, 1, 1\n",
    "        ]),\n",
    "        np.array([\n",
    "        1, 1, 1, 1,\n",
    "        1, 0, 0, 1,\n",
    "        1, 0, 0, 1,\n",
    "        1, 0, 1, 1\n",
    "        ]),\n",
    "        np.array([\n",
    "        1, 1, 1, 1,\n",
    "        1, 0, 0, 1,\n",
    "        1, 0, 0, 1,\n",
    "        1, 1, 0, 1\n",
    "        ]),\n",
    "\n",
    "        np.array([\n",
    "        1, 0, 0, 1,\n",
    "        0, 1, 1, 0,\n",
    "        0, 1, 1, 0,\n",
    "        1, 0, 0, 1\n",
    "        ]),\n",
    "        np.array([\n",
    "        1, 0, 0, 1,\n",
    "        0, 1, 1, 0,\n",
    "        0, 1, 0, 0,\n",
    "        1, 0, 0, 1\n",
    "        ]),\n",
    "        np.array([\n",
    "        0, 0, 0, 1,\n",
    "        0, 1, 1, 0,\n",
    "        0, 1, 1, 0,\n",
    "        1, 0, 0, 1\n",
    "        ])\n",
    "    ])\n",
    "\n",
    "print (\"X= \\n\", X)\n",
    "\n",
    "y = np.array([\n",
    "    np.array([1, 0]),\n",
    "    np.array([1, 0]),\n",
    "    np.array([1, 0]),\n",
    "    np.array([0, 1]),\n",
    "    np.array([0, 1]),\n",
    "    np.array([0, 1])\n",
    "    ])\n",
    "print(\"y= \\n\", y)"
   ]
  },
  {
   "cell_type": "code",
   "execution_count": 21,
   "metadata": {},
   "outputs": [],
   "source": [
    "def runNeuralNet (X, y, _activation, _shuffle, _max_iter=10000, plots=True, r=0.001, alpha=0):\n",
    "    lastLoss = 10\n",
    "    while lastLoss > .1:\n",
    "        mlp = MLPClassifier(\n",
    "                                solver='sgd',\n",
    "                                shuffle=_shuffle,\n",
    "                                activation=_activation,\n",
    "                                max_iter=_max_iter,\n",
    "                                tol=1e-10,\n",
    "                                hidden_layer_sizes=(1,),\n",
    "                                momentum=alpha,\n",
    "                                learning_rate_init=r,\n",
    "                                verbose=False)\n",
    "        mlp.fit(X, y)\n",
    "        lastLoss = np.array(mlp.loss_curve_).min()\n",
    "    \n",
    "    print('Score: ', mlp.score(X, y))\n",
    "    print('Number of iterations: ', mlp.n_iter_)\n",
    "    print('Loss: ', lastLoss)\n",
    "    \n",
    "    if plots:\n",
    "        # Plot - curva de a perda\n",
    "        losses = mlp.loss_curve_\n",
    "        plt.plot(losses)\n",
    "        plt.title(\"Loss (r = \" + str(r) + \", alpha = \" + str(alpha) + \")\")\n",
    "        plt.show()\n",
    "\n",
    "    return mlp"
   ]
  },
  {
   "cell_type": "code",
   "execution_count": 28,
   "metadata": {},
   "outputs": [
    {
     "name": "stdout",
     "output_type": "stream",
     "text": [
      "Score:  1.0\n",
      "Number of iterations:  374\n",
      "Loss:  0.00013533284904569933\n"
     ]
    },
    {
     "data": {
      "image/png": "[encoded data removed]",
      "text/plain": [
       "<Figure size 432x288 with 1 Axes>"
      ]
     },
     "metadata": {
      "needs_background": "light"
     },
     "output_type": "display_data"
    },
    {
     "name": "stdout",
     "output_type": "stream",
     "text": [
      "Classification Report:\n",
      "----------------------\n",
      "               precision    recall  f1-score   support\n",
      "\n",
      "           0       0.00      0.00      0.00         0\n",
      "           1       0.00      0.00      0.00         3\n",
      "\n",
      "   micro avg       0.00      0.00      0.00         3\n",
      "   macro avg       0.00      0.00      0.00         3\n",
      "weighted avg       0.00      0.00      0.00         3\n",
      " samples avg       0.00      0.00      0.00         3\n",
      "\n"
     ]
    },
    {
     "name": "stderr",
     "output_type": "stream",
     "text": [
      "C:\\Users\\arman\\miniconda3\\lib\\site-packages\\sklearn\\metrics\\_classification.py:1308: UndefinedMetricWarning: Precision and F-score are ill-defined and being set to 0.0 in labels with no predicted samples. Use `zero_division` parameter to control this behavior.\n",
      "  _warn_prf(average, modifier, msg_start, len(result))\n",
      "C:\\Users\\arman\\miniconda3\\lib\\site-packages\\sklearn\\metrics\\_classification.py:1308: UndefinedMetricWarning: Recall and F-score are ill-defined and being set to 0.0 in labels with no true samples. Use `zero_division` parameter to control this behavior.\n",
      "  _warn_prf(average, modifier, msg_start, len(result))\n"
     ]
    }
   ],
   "source": [
    "mlp = runNeuralNet(X=X[:3], y=y[:3], _activation='identity', _shuffle=True, _max_iter=1000000, plots=True, alpha=1)\n",
    "ypred = mlp.predict(X[3::])\n",
    "clr = classification_report(y[3::], ypred)\n",
    "print(\"Classification Report:\\n----------------------\\n\", clr)"
   ]
  },
  {
   "cell_type": "code",
   "execution_count": 19,
   "metadata": {},
   "outputs": [
    {
     "name": "stdout",
     "output_type": "stream",
     "text": [
      "Score:  1.0\n",
      "Number of iterations:  387\n",
      "Loss:  0.002741951212190757\n"
     ]
    },
    {
     "data": {
      "image/png": "[encoded data removed]",
      "text/plain": [
       "<Figure size 432x288 with 1 Axes>"
      ]
     },
     "metadata": {
      "needs_background": "light"
     },
     "output_type": "display_data"
    },
    {
     "name": "stdout",
     "output_type": "stream",
     "text": [
      "Classification Report:\n",
      "----------------------\n",
      "               precision    recall  f1-score   support\n",
      "\n",
      "           0       1.00      1.00      1.00         3\n",
      "           1       1.00      1.00      1.00         3\n",
      "\n",
      "   micro avg       1.00      1.00      1.00         6\n",
      "   macro avg       1.00      1.00      1.00         6\n",
      "weighted avg       1.00      1.00      1.00         6\n",
      " samples avg       1.00      1.00      1.00         6\n",
      "\n"
     ]
    }
   ],
   "source": [
    "mlp = runNeuralNet(X=X, y=y, _activation='tanh', _shuffle=True, _max_iter=1000000, plots=True, alpha=1)\n",
    "ypred = mlp.predict(X)\n",
    "clr = classification_report(y, ypred)\n",
    "print(\"Classification Report:\\n----------------------\\n\", clr)"
   ]
  },
  {
   "cell_type": "code",
   "execution_count": 10,
   "metadata": {},
   "outputs": [
    {
     "name": "stdout",
     "output_type": "stream",
     "text": [
      "Score:  1.0\n",
      "Number of iterations:  380\n",
      "Loss:  0.002892279739295124\n"
     ]
    },
    {
     "data": {
      "image/png": "[encoded data removed]",
      "text/plain": [
       "<Figure size 432x288 with 1 Axes>"
      ]
     },
     "metadata": {
      "needs_background": "light"
     },
     "output_type": "display_data"
    },
    {
     "name": "stdout",
     "output_type": "stream",
     "text": [
      "Classification Report:\n",
      "----------------------\n",
      "               precision    recall  f1-score   support\n",
      "\n",
      "           0       1.00      1.00      1.00         1\n",
      "           1       1.00      1.00      1.00         1\n",
      "\n",
      "   micro avg       1.00      1.00      1.00         2\n",
      "   macro avg       1.00      1.00      1.00         2\n",
      "weighted avg       1.00      1.00      1.00         2\n",
      " samples avg       1.00      1.00      1.00         2\n",
      "\n"
     ]
    }
   ],
   "source": [
    "mlp = runNeuralNet(X=X, y=y, _activation='relu', _shuffle=True, _max_iter=1000000, plots=True, alpha=1)\n",
    "ypred = mlp.predict(X)\n",
    "clr = classification_report(y, ypred)\n",
    "print(\"Classification Report:\\n----------------------\\n\", clr)"
   ]
  },
  {
   "cell_type": "code",
   "execution_count": 14,
   "metadata": {},
   "outputs": [
    {
     "name": "stdout",
     "output_type": "stream",
     "text": [
      "Score:  1.0\n",
      "Number of iterations:  624\n",
      "Loss:  0.016808841394726222\n"
     ]
    },
    {
     "data": {
      "image/png": "[encoded data removed]",
      "text/plain": [
       "<Figure size 432x288 with 1 Axes>"
      ]
     },
     "metadata": {
      "needs_background": "light"
     },
     "output_type": "display_data"
    },
    {
     "name": "stdout",
     "output_type": "stream",
     "text": [
      "Classification Report:\n",
      "----------------------\n",
      "               precision    recall  f1-score   support\n",
      "\n",
      "           0       1.00      1.00      1.00         1\n",
      "           1       1.00      1.00      1.00         1\n",
      "\n",
      "   micro avg       1.00      1.00      1.00         2\n",
      "   macro avg       1.00      1.00      1.00         2\n",
      "weighted avg       1.00      1.00      1.00         2\n",
      " samples avg       1.00      1.00      1.00         2\n",
      "\n"
     ]
    }
   ],
   "source": [
    "mlp = runNeuralNet(X=X, y=y, _activation='logistic', _shuffle=True, _max_iter=1000000, plots=True, alpha=1)\n",
    "ypred = mlp.predict(X)\n",
    "clr = classification_report(y, ypred)\n",
    "print(\"Classification Report:\\n----------------------\\n\", clr)"
   ]
  }
 ],
 "metadata": {
  "interpreter": {
   "hash": "321a353c628e2205ef96b6b688d275c332a2dce05305afc84f7b50fea3002f88"
  },
  "kernelspec": {
   "display_name": "Python 3.9.5 64-bit (conda)",
   "name": "python3"
  },
  "language_info": {
   "codemirror_mode": {
    "name": "ipython",
    "version": 3
   },
   "file_extension": ".py",
   "mimetype": "text/x-python",
   "name": "python",
   "nbconvert_exporter": "python",
   "pygments_lexer": "ipython3",
   "version": "3.9.5"
  },
  "orig_nbformat": 4
 },
 "nbformat": 4,
 "nbformat_minor": 2
}
